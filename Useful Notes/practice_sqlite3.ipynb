{
  "cells": [
    {
      "cell_type": "code",
      "execution_count": 1,
      "metadata": {},
      "outputs": [],
      "source": [
        "import sqlite3"
      ]
    },
    {
      "cell_type": "code",
      "execution_count": null,
      "metadata": {},
      "outputs": [
        {
          "data": {
            "text/plain": [
              "<sqlite3.Cursor at 0x110ee19c0>"
            ]
          },
          "execution_count": 2,
          "metadata": {},
          "output_type": "execute_result"
        }
      ],
      "source": [
        "# Define a connection and a cursor\n",
        "# Connection represents the database\n",
        "conn = sqlite3.connect('example.db') # can also use ':memory:'\n",
        "\n",
        "# Cursor interacts w/ database through sql commands\n",
        "cursor = conn.cursor()\n",
        "\n",
        "# Creating table \"employees\" w/ 3 columns of specified data types\n",
        "cursor.execute(\"\"\"CREATE TABLE employees (\n",
        "               first TEXT,\n",
        "               last TEXT,\n",
        "               pay INTEGER\n",
        "               )\"\"\")\n",
        "# conn.commit() # commit the transaction\n",
        "# conn.close() # close the connection made to the database (-journal files will go away)"
      ]
    },
    {
      "cell_type": "code",
      "execution_count": 3,
      "metadata": {},
      "outputs": [
        {
          "data": {
            "text/plain": [
              "<sqlite3.Cursor at 0x110ee19c0>"
            ]
          },
          "execution_count": 3,
          "metadata": {},
          "output_type": "execute_result"
        }
      ],
      "source": [
        "# Adding some data\n",
        "cursor.execute(\"INSERT INTO employees VALUES ('Corey', 'Schafer', 50000)\")"
      ]
    },
    {
      "cell_type": "code",
      "execution_count": 4,
      "metadata": {},
      "outputs": [
        {
          "name": "stdout",
          "output_type": "stream",
          "text": [
            "('Corey', 'Schafer', 50000)\n"
          ]
        }
      ],
      "source": [
        "# Viewing a query\n",
        "cursor.execute(\"SELECT * FROM employees WHERE last = 'Schafer'\")\n",
        "print(cursor.fetchone()) # grabs one from the table. There is also fetchall(), fetchmany(5), etc"
      ]
    },
    {
      "cell_type": "code",
      "execution_count": 5,
      "metadata": {},
      "outputs": [
        {
          "name": "stdout",
          "output_type": "stream",
          "text": [
            "[('Corey', 'Schafer', 50000), ('Mary', 'Schafer', 70000)]\n"
          ]
        }
      ],
      "source": [
        "# Adding some data\n",
        "cursor.execute(\"INSERT INTO employees VALUES ('Mary', 'Schafer', 70000)\")\n",
        "\n",
        "# Viewing again\n",
        "cursor.execute(\"SELECT * FROM employees WHERE last = 'Schafer'\")\n",
        "print(cursor.fetchall())"
      ]
    },
    {
      "cell_type": "markdown",
      "metadata": {},
      "source": [
        "### Use classes to create employees!"
      ]
    },
    {
      "cell_type": "code",
      "execution_count": 6,
      "metadata": {},
      "outputs": [],
      "source": [
        "# Class that allows us to create employees\n",
        "class Employee:\n",
        "    def __init__(self, first, last, pay):\n",
        "        self.first = first\n",
        "        self.last = last\n",
        "        self.pay = pay\n",
        "    \n",
        "    @property\n",
        "    def email(self):\n",
        "        return '{}.{}@email.com'.format(self.first, self.last)\n",
        "    \n",
        "    @property\n",
        "    def fullname(self):\n",
        "        return '{} {}'.format(self.first, self.last)\n",
        "    \n",
        "    def __repr__(self):\n",
        "        return \"Employee('{}', '{}', '{}')\".format(self.first, self.last, self.pay)"
      ]
    },
    {
      "cell_type": "markdown",
      "metadata": {},
      "source": [
        "### Now use that class to create employees and add them to the database!"
      ]
    },
    {
      "cell_type": "code",
      "execution_count": 11,
      "metadata": {},
      "outputs": [
        {
          "name": "stdout",
          "output_type": "stream",
          "text": [
            "[('Corey', 'Schafer', 50000), ('Mary', 'Schafer', 70000), ('John', 'Doe', 80000), ('Jane', 'Doe', 90000)]\n"
          ]
        }
      ],
      "source": [
        "# Now I can use the class to create new employees\n",
        "emp_1 = Employee('John', 'Doe', 80000)\n",
        "emp_2 = Employee('Jane', 'Doe', 90000)\n",
        "\n",
        "# print(emp_1.first)\n",
        "# print(emp_1.last)\n",
        "# print(emp_1.pay)\n",
        "\n",
        "# Adding them to the database\n",
        "# WARNING: This method is vulnerable to sql injection attacks\n",
        "### cursor.execute(\"INSERT INTO employees VALUES ('{}', '{}', '{}')\".format(emp_1.first, emp_1.last, emp_1.pay))\n",
        "\n",
        "#...so try it one of these two ways...\n",
        "### cursor.execute(\"INSERT INTO employees VALUES (?, ?, ?)\", (emp_1.first, emp_1.last, emp_1.pay))\n",
        "### cursor.execute(\"INSERT INTO employees VALUES (?, ?, ?)\", (emp_2.first, emp_2.last, emp_2.pay))\n",
        "\n",
        "cursor.execute(\"INSERT INTO employees VALUES (:first, :last, :pay)\",\n",
        "               {'first': emp_1.first, 'last': emp_1.last, 'pay': emp_1.pay}) # dict keys will be first, last, and pay\n",
        "cursor.execute(\"INSERT INTO employees VALUES (:first, :last, :pay)\",\n",
        "               {'first': emp_2.first, 'last': emp_2.last, 'pay': emp_2.pay})\n",
        "\n",
        "# Viewing again\n",
        "cursor.execute(\"SELECT * FROM employees\")\n",
        "print(cursor.fetchall())\n"
      ]
    },
    {
      "cell_type": "code",
      "execution_count": null,
      "metadata": {},
      "outputs": [
        {
          "name": "stdout",
          "output_type": "stream",
          "text": [
            "[('John', 'Doe', 80000), ('Jane', 'Doe', 90000)]\n"
          ]
        }
      ],
      "source": [
        "# You can also try viewing more specifically\n",
        "cursor.execute(\"SELECT * FROM employees WHERE last=:last\", {'last': 'Doe'})\n",
        "print(cursor.fetchall())"
      ]
    },
    {
      "cell_type": "code",
      "execution_count": 15,
      "metadata": {},
      "outputs": [],
      "source": [
        "conn.commit() # commit the transaction(s)\n",
        "conn.close() # close the connection made to the database (-journal files will go away)"
      ]
    },
    {
      "cell_type": "markdown",
      "metadata": {},
      "source": [
        "### Create functions to make the job easier!"
      ]
    },
    {
      "cell_type": "code",
      "execution_count": 16,
      "metadata": {},
      "outputs": [],
      "source": [
        "# Create functions to do insertion/deleting/updating, etc. jobs!\n",
        "def insert_emp(emp):\n",
        "    with conn: # within contexts manager\n",
        "        cursor.execute(\"INSERT INTO employees VALUES (:first, :last, :pay)\",\n",
        "                    {'first': emp.first, 'last': emp.last, 'pay': emp.pay})\n",
        "\n",
        "def get_emps_by_name(lastname):\n",
        "    cursor.execute(\"SELECT * FROM employees WHERE last=:last\", {'last': lastname})\n",
        "    return cursor.fetchall()\n",
        "\n",
        "def update_pay(emp, pay):\n",
        "    with conn:\n",
        "        cursor.execute(\"\"\"UPDATE employees SET pay = :pay\n",
        "                       WHERE first = :first AND last = :last\"\"\",\n",
        "                    {'first': emp.first, 'last': emp.last, 'pay': pay})\n",
        "\n",
        "def remove_emp(emp):\n",
        "    with conn:\n",
        "        cursor.execute(\"DELETE FROM employees WHERE first = :first AND last = :last\",\n",
        "                    {'first': emp.first, 'last': emp.last})"
      ]
    },
    {
      "cell_type": "markdown",
      "metadata": {},
      "source": [
        "### Testing out the new functions!"
      ]
    },
    {
      "cell_type": "code",
      "execution_count": 18,
      "metadata": {},
      "outputs": [
        {
          "name": "stdout",
          "output_type": "stream",
          "text": [
            "[('John', 'Doe', 80000), ('Jane', 'Doe', 90000)]\n"
          ]
        }
      ],
      "source": [
        "conn = sqlite3.connect('example.db') # reopening the connection\n",
        "cursor = conn.cursor()\n",
        "\n",
        "print(get_emps_by_name('Doe'))"
      ]
    },
    {
      "cell_type": "code",
      "execution_count": 19,
      "metadata": {},
      "outputs": [
        {
          "name": "stdout",
          "output_type": "stream",
          "text": [
            "[('Jane', 'Doe', 95000)]\n"
          ]
        }
      ],
      "source": [
        "update_pay(emp_2, 95000) # updating Jane's pay\n",
        "remove_emp(emp_1) # removing John\n",
        "print(get_emps_by_name('Doe'))"
      ]
    },
    {
      "cell_type": "code",
      "execution_count": 23,
      "metadata": {},
      "outputs": [],
      "source": [
        "conn.close()"
      ]
    }
  ],
  "metadata": {
    "colab": {
      "collapsed_sections": [
        "aTVFZp3KU8LP"
      ],
      "provenance": []
    },
    "kernelspec": {
      "display_name": "ds_env",
      "language": "python",
      "name": "python3"
    },
    "language_info": {
      "codemirror_mode": {
        "name": "ipython",
        "version": 3
      },
      "file_extension": ".py",
      "mimetype": "text/x-python",
      "name": "python",
      "nbconvert_exporter": "python",
      "pygments_lexer": "ipython3",
      "version": "3.12.2"
    }
  },
  "nbformat": 4,
  "nbformat_minor": 0
}
