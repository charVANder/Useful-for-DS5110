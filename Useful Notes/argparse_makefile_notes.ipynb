{
 "cells": [
  {
   "cell_type": "markdown",
   "metadata": {},
   "source": [
    "# Van's Argparse/Makefile Basics for Python Projects"
   ]
  },
  {
   "cell_type": "markdown",
   "metadata": {},
   "source": [
    "## Argparse Basics"
   ]
  },
  {
   "cell_type": "markdown",
   "metadata": {},
   "source": [
    "Simply put, `argparse` is a library that makes it easy to handle command-line arguments. It lets you write programs that can accept inputs directly in the command line (such sa parameters). The first step is creating an `ArgumentParser` object, then you define what arguments your script should expect. You can also specify things such as whether the argument is optional or required, what type of value it should have, and even give default values. For an example..."
   ]
  },
  {
   "cell_type": "code",
   "execution_count": null,
   "metadata": {},
   "outputs": [],
   "source": [
    "import argparse\n",
    "\n",
    "# Creating the parser object\n",
    "parser = argparse.ArgumentParser(description=\"This is an example.\")\n",
    "\n",
    "# Add arguments that you want the script to accept\n",
    "# this argument is required\n",
    "parser.add_argument('input_file', type=str, help='The input file path')  # Made this argument required\n",
    "\n",
    "# this argument is optional\n",
    "parser.add_argument('--output', type=str, default='output.txt', help='The output file path (default: output.txt)')"
   ]
  },
  {
   "cell_type": "markdown",
   "metadata": {},
   "source": [
    "In the above example, the `input_file` argument is required. The order will matter when you type them in the command line. For example, you might type something like...\n",
    "\n",
    "```python test.py testfile.txt```"
   ]
  },
  {
   "cell_type": "markdown",
   "metadata": {},
   "source": [
    "Optional arguments (such as the `--output`) have a `--` and usually have default values if not provided by the user. For example, you might type something like...\n",
    "\n",
    "```python test.py testfile.txt --output testresult.txt```"
   ]
  },
  {
   "cell_type": "markdown",
   "metadata": {},
   "source": [
    "After you've defined your arguments, you need to actually parse them, which means interpreting the arguments passed when you run the script. In the following example, `args.input_file` and `args.output` will store the values provided by the user, or use the default values if the user doesn't give one."
   ]
  },
  {
   "cell_type": "code",
   "execution_count": null,
   "metadata": {},
   "outputs": [],
   "source": [
    "args = parser.parse_args()\n",
    "\n",
    "# Example of using the parsed arguments in the script\n",
    "print(f\"Input file: {args.input_file}\")\n",
    "print(f\"Output file: {args.output}\")"
   ]
  },
  {
   "cell_type": "markdown",
   "metadata": {},
   "source": [
    "## ...but what about the Makefiles?"
   ]
  },
  {
   "cell_type": "markdown",
   "metadata": {},
   "source": [
    "With a Makefile, you can automate tasks such as running your scripts with the specific arguments.  They are commonly used in programming projects to handle compilation, file management, and running scripts or other commands. The \"make\" command reads the Makefile and executes the instructions based on what’s specified. Let's look at our previous argparse code as an example..."
   ]
  },
  {
   "cell_type": "markdown",
   "metadata": {},
   "source": [
    "#### Simple Makefile to run specific builds:\n",
    "Targets for specific builds are build1, build2, build3, and clean. If you want build1, you would type `make build1` in the command line."
   ]
  },
  {
   "cell_type": "code",
   "execution_count": null,
   "metadata": {
    "vscode": {
     "languageId": "shellscript"
    }
   },
   "outputs": [],
   "source": [
    "# Build 1: Run the script with input.txt and output.txt\n",
    "build1:\n",
    "    python script.py input.txt --output output.txt\n",
    "\n",
    "# Build 2: Run the script with input2.txt and output2.txt\n",
    "build2:\n",
    "    python script.py input2.txt --output output2.txt\n",
    "\n",
    "# Build 3: Run the script with input3.txt and output3.txt\n",
    "build3:\n",
    "    python script.py input3.txt --output output3.txt\n",
    "\n",
    "# Clean up (if necessary)\n",
    "clean:\n",
    "    rm -f output.txt output2.txt output3.txt"
   ]
  },
  {
   "cell_type": "markdown",
   "metadata": {},
   "source": [
    "#### Alternatively, you can choose to define some variables (INPUT_FILE and OUTPUT_FILE) if you would like to add dynamically changing parameters from the command line:"
   ]
  },
  {
   "cell_type": "code",
   "execution_count": null,
   "metadata": {
    "vscode": {
     "languageId": "shellscript"
    }
   },
   "outputs": [],
   "source": [
    "# You can choose to define the input and output files as variables if you would like to add dynamically changing parameters from the command line.\n",
    "INPUT_FILE = testfile.txt\n",
    "OUTPUT_FILE = testresult.txt\n",
    "\n",
    "# Now you add your targets to run the script.\n",
    "run:\n",
    "    python -B test.py $(INPUT_FILE) --output $(OUTPUT_FILE)\n",
    "\n",
    "# Cleans up generated files such as temporary files or outputs\n",
    "clean:\n",
    "    rm -f *.txt"
   ]
  },
  {
   "cell_type": "markdown",
   "metadata": {},
   "source": [
    "Shown below is a basic structure of a Makefile that you will probably use in your own files..."
   ]
  },
  {
   "cell_type": "code",
   "execution_count": null,
   "metadata": {
    "vscode": {
     "languageId": "shellscript"
    }
   },
   "outputs": [],
   "source": [
    "target: dependencies\n",
    "    command"
   ]
  },
  {
   "cell_type": "markdown",
   "metadata": {},
   "source": [
    "* **target** is the name of the task you want to run (if target is \"graph\", then you would type \"make graph\")\n",
    "* **dependencies** are the files or other tasks that the target might depend on\n",
    "* **command** is the shell command to run when the target is executed\n",
    "* Please also not that Makefiles are case sensitive and also read \"tabs\" not \"spaces\""
   ]
  },
  {
   "cell_type": "markdown",
   "metadata": {},
   "source": [
    "#### Now shown below is an example of creating a target to run a Python script.\n",
    "To run the target, you would use the `make run` command. This would execute `python3 my_script.py`. Please also note that the `-B` is not required, but addnig it makes sure to rebuild everything, even if something has already been run. This is useful when you want to ensure all targets are rebuilt and guarantee a clean build."
   ]
  },
  {
   "cell_type": "code",
   "execution_count": null,
   "metadata": {
    "vscode": {
     "languageId": "shellscript"
    }
   },
   "outputs": [],
   "source": [
    "run:\n",
    "    python3 -B my_script.py"
   ]
  },
  {
   "cell_type": "markdown",
   "metadata": {},
   "source": [
    "#### Sometimes you might want to clean up temporary or generated files. Here below is an example of how to delete some figures in a figs folder. The \"make clean\" command would find and remove all files in the figs directory!"
   ]
  },
  {
   "cell_type": "code",
   "execution_count": null,
   "metadata": {
    "vscode": {
     "languageId": "shellscript"
    }
   },
   "outputs": [],
   "source": [
    "clean:\n",
    "\trm figs/*"
   ]
  },
  {
   "cell_type": "markdown",
   "metadata": {},
   "source": [
    "#### You can also define variables in a Makefile to avoid repetition or change parameters dynamically (shown previously).\n",
    "In the example below, you could then change the Python interpreter or testing command in just one place."
   ]
  },
  {
   "cell_type": "code",
   "execution_count": null,
   "metadata": {
    "vscode": {
     "languageId": "shellscript"
    }
   },
   "outputs": [],
   "source": [
    "# Variables here!\n",
    "PYTHON=python3\n",
    "TEST_CMD=pytest\n",
    "\n",
    "run:\n",
    "    $(PYTHON) my_script.py\n",
    "\n",
    "test:\n",
    "    $(TEST_CMD)"
   ]
  },
  {
   "cell_type": "markdown",
   "metadata": {},
   "source": [
    "#### Sometimes, you might see the `.PHONY`...\n",
    "In a Makefile, `.PHONY` is a special target used to declare that certain targets are not actual files but rather commands or actions. When you mark a target as `.PHONY`, you are making sure that \"make\" always executes the corresponding command, regardless of whether a file with the same name exists in that directory. This is particularly useful for targets such as `clean`, `test`, or `install` which are meant to run commands rather than create or modify files."
   ]
  },
  {
   "cell_type": "code",
   "execution_count": null,
   "metadata": {
    "vscode": {
     "languageId": "shellscript"
    }
   },
   "outputs": [],
   "source": [
    ".PHONY: all install test clean"
   ]
  },
  {
   "cell_type": "markdown",
   "metadata": {},
   "source": [
    "There are a lot more possibilities in Makesfiles. You can even install dependencies, create environments, and so much more. In conclusion,  Makefiles are a powerful tool for automating repetitive tasks in Python projects! There are so many things you can do such as running scripts, installing dependencies, cleaning files, running tests, creating environments, and etc. This can save you time and make your workflow more efficient, especially when working on larger projects in real-world settings."
   ]
  },
  {
   "cell_type": "markdown",
   "metadata": {},
   "source": [
    "If you would like more help with Argparse and Makefiles, these are two good tutorials that you can view!\n",
    "* https://www.youtube.com/watch?v=88pl8TuuKz0&t=19s\n",
    "* https://youtu.be/Yt-UF7fNLJE?feature=shared"
   ]
  }
 ],
 "metadata": {
  "kernelspec": {
   "display_name": "ds_env",
   "language": "python",
   "name": "python3"
  },
  "language_info": {
   "codemirror_mode": {
    "name": "ipython",
    "version": 3
   },
   "file_extension": ".py",
   "mimetype": "text/x-python",
   "name": "python",
   "nbconvert_exporter": "python",
   "pygments_lexer": "ipython3",
   "version": "3.12.2"
  }
 },
 "nbformat": 4,
 "nbformat_minor": 2
}
